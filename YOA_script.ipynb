{
 "cells": [
  {
   "cell_type": "code",
   "execution_count": 8,
   "id": "1cd91436-661d-45be-bf59-444fa9e36e28",
   "metadata": {},
   "outputs": [
    {
     "name": "stdout",
     "output_type": "stream",
     "text": [
      "/mnt/c/Users/kwj93/bio_info1\n"
     ]
    }
   ],
   "source": [
    "%cd /mnt/c/Users/kwj93/bio_info1"
   ]
  },
  {
   "cell_type": "code",
   "execution_count": 9,
   "id": "45a8af92-c4cc-40e4-9406-890fd4365fcd",
   "metadata": {},
   "outputs": [],
   "source": [
    "!mkdir -p YOA-work"
   ]
  },
  {
   "cell_type": "code",
   "execution_count": 10,
   "id": "ea941f82-74ff-438b-b097-8a6f6aac5f94",
   "metadata": {},
   "outputs": [],
   "source": [
    "%cp -r /mnt/c/Users/kwj93/bio_info1/YOA-data/*.bam /mnt/c/Users/kwj93/bio_info1/YOA-work/"
   ]
  },
  {
   "cell_type": "code",
   "execution_count": 11,
   "id": "e6e853f2-3d1d-4ce6-b64d-2d95aa3d4696",
   "metadata": {},
   "outputs": [
    {
     "name": "stdout",
     "output_type": "stream",
     "text": [
      "--2025-05-26 14:46:26--  https://ftp.ebi.ac.uk/pub/databases/gencode/Gencode_human/release_48/gencode.v48.annotation.gtf.gz\n",
      "Resolving ftp.ebi.ac.uk (ftp.ebi.ac.uk)... 193.62.193.165\n",
      "Connecting to ftp.ebi.ac.uk (ftp.ebi.ac.uk)|193.62.193.165|:443... connected.\n",
      "HTTP request sent, awaiting response... 200 OK\n",
      "Length: 58971717 (56M) [application/x-gzip]\n",
      "Saving to: ‘/mnt/c/Users/kwj93/bio_info1/YOA-work/human-gencode.gtf.gz’\n",
      "\n",
      "/mnt/c/Users/kwj93/ 100%[===================>]  56.24M  2.34MB/s    in 17s     \n",
      "\n",
      "2025-05-26 14:46:44 (3.33 MB/s) - ‘/mnt/c/Users/kwj93/bio_info1/YOA-work/human-gencode.gtf.gz’ saved [58971717/58971717]\n",
      "\n"
     ]
    }
   ],
   "source": [
    "!wget -O /mnt/c/Users/kwj93/bio_info1/YOA-work/human-gencode.gtf.gz https://ftp.ebi.ac.uk/pub/databases/gencode/Gencode_human/release_48/gencode.v48.annotation.gtf.gz"
   ]
  },
  {
   "cell_type": "code",
   "execution_count": 13,
   "id": "ab66f07f-0bae-4e51-b2de-feb488ee48ff",
   "metadata": {},
   "outputs": [],
   "source": [
    "!gunzip ./YOA-work/human-gencode.gtf.gz"
   ]
  },
  {
   "cell_type": "code",
   "execution_count": 15,
   "id": "cfd4e383-1768-4eff-a8b9-6b19ee4710bd",
   "metadata": {},
   "outputs": [],
   "source": [
    "!mv ./YOA-work/ENCFF551NSA.bam ./YOA-work/CLIP_PABPC4_1.bam"
   ]
  },
  {
   "cell_type": "code",
   "execution_count": 16,
   "id": "a8dfc77d-c8e0-4647-9050-9448efff7dea",
   "metadata": {},
   "outputs": [],
   "source": [
    "!mv ./YOA-work/ENCFF692YDC.bam ./YOA-work/CLIP_PABPC4_2.bam"
   ]
  },
  {
   "cell_type": "code",
   "execution_count": 18,
   "id": "291997af-1fd4-41fb-b1af-f7bbfddb28e7",
   "metadata": {},
   "outputs": [
    {
     "name": "stdout",
     "output_type": "stream",
     "text": [
      "\n",
      "       \u001b[44;37m ========== \u001b[0m\u001b[36m    _____ _    _ ____  _____  ______          _____  \n",
      "       \u001b[44;37m =====      \u001b[0m\u001b[36m   / ____| |  | |  _ \\|  __ \\|  ____|   /\\   |  __ \\ \n",
      "       \u001b[44;37m   =====    \u001b[0m\u001b[36m  | (___ | |  | | |_) | |__) | |__     /  \\  | |  | |\n",
      "       \u001b[44;37m     ====   \u001b[0m\u001b[36m   \\___ \\| |  | |  _ <|  _  /|  __|   / /\\ \\ | |  | |\n",
      "       \u001b[44;37m       ==== \u001b[0m\u001b[36m   ____) | |__| | |_) | | \\ \\| |____ / ____ \\| |__| |\n",
      "       \u001b[44;37m ========== \u001b[0m\u001b[36m  |_____/ \\____/|____/|_|  \\_\\______/_/    \\_\\_____/\u001b[0m\n",
      "\t  v2.1.1\n",
      "\n",
      "//==========================\u001b[36m featureCounts setting \u001b[0m===========================\\\\\n",
      "||  \u001b[0m                                                                          ||\n",
      "||             Input files : \u001b[36m2 BAM files  \u001b[0m \u001b[0m                                   ||\n",
      "||  \u001b[0m                                                                          ||\n",
      "||                           \u001b[36mCLIP_PABPC4_1.bam\u001b[0m \u001b[0m                               ||\n",
      "||                           \u001b[36mCLIP_PABPC4_2.bam\u001b[0m \u001b[0m                               ||\n",
      "||  \u001b[0m                                                                          ||\n",
      "||             Output file : \u001b[36mread-counts.txt\u001b[0m \u001b[0m                                 ||\n",
      "||                 Summary : \u001b[36mread-counts.txt.summary\u001b[0m \u001b[0m                         ||\n",
      "||              Paired-end : \u001b[36myes\u001b[0m \u001b[0m                                             ||\n",
      "||        Count read pairs : \u001b[36mno\u001b[0m \u001b[0m                                              ||\n",
      "||              Annotation : \u001b[36mhuman-gencode.gtf (GTF)\u001b[0m \u001b[0m                         ||\n",
      "||      Dir for temp files : \u001b[36m./\u001b[0m \u001b[0m                                              ||\n",
      "||  \u001b[0m                                                                          ||\n",
      "||                 Threads : \u001b[36m1\u001b[0m \u001b[0m                                               ||\n",
      "||                   Level : \u001b[36mmeta-feature level\u001b[0m \u001b[0m                              ||\n",
      "||      Multimapping reads : \u001b[36mnot counted\u001b[0m \u001b[0m                                     ||\n",
      "|| Multi-overlapping reads : \u001b[36mnot counted\u001b[0m \u001b[0m                                     ||\n",
      "||   Min overlapping bases : \u001b[36m1\u001b[0m \u001b[0m                                               ||\n",
      "||  \u001b[0m                                                                          ||\n",
      "\\\\============================================================================//\n",
      "\n",
      "//=================================\u001b[36m Running \u001b[0m==================================\\\\\n",
      "||  \u001b[0m                                                                          ||\n",
      "|| Load annotation file human-gencode.gtf \u001b[0m... \u001b[0m                                ||\n",
      "||    Features : \u001b[36m2155691\u001b[0m \u001b[0m                                                     ||\n",
      "||    Meta-features : \u001b[36m78686\u001b[0m \u001b[0m                                                  ||\n",
      "||    Chromosomes/contigs : \u001b[36m25\u001b[0m \u001b[0m                                               ||\n",
      "||  \u001b[0m                                                                          ||\n",
      "|| Process BAM file CLIP_PABPC4_1.bam... \u001b[0m                                     ||\n",
      "||    Paired-end reads are included. \u001b[0m                                         ||\n",
      "||    The reads are assigned on the single-end mode. \u001b[0m                         ||\n",
      "||    Total alignments : \u001b[36m7347686\u001b[0m \u001b[0m                                             ||\n",
      "||    Successfully assigned alignments : \u001b[36m4972884 (67.7%)\u001b[0m \u001b[0m                     ||\n",
      "||    Running time : \u001b[36m0.17 minutes\u001b[0m \u001b[0m                                            ||\n",
      "||  \u001b[0m                                                                          ||\n",
      "|| Process BAM file CLIP_PABPC4_2.bam... \u001b[0m                                     ||\n",
      "||    Paired-end reads are included. \u001b[0m                                         ||\n",
      "||    The reads are assigned on the single-end mode. \u001b[0m                         ||\n",
      "||    Total alignments : \u001b[36m1737814\u001b[0m \u001b[0m                                             ||\n",
      "||    Successfully assigned alignments : \u001b[36m1172338 (67.5%)\u001b[0m \u001b[0m                     ||\n",
      "||    Running time : \u001b[36m0.04 minutes\u001b[0m \u001b[0m                                            ||\n",
      "||  \u001b[0m                                                                          ||\n",
      "|| Write the final count table. \u001b[0m                                              ||\n",
      "|| Write the read assignment summary. \u001b[0m                                        ||\n",
      "||  \u001b[0m                                                                          ||\n",
      "|| Summary of counting results can be found in file \"read-counts.txt.summary \u001b[0m ||\n",
      "|| \" \u001b[0m                                                                         ||\n",
      "||  \u001b[0m                                                                          ||\n",
      "\\\\============================================================================//\n",
      "\n"
     ]
    }
   ],
   "source": [
    "!featureCounts -p -a ./YOA-work/human-gencode.gtf -o ./YOA-work/read-counts.txt ./YOA-work/*.bam"
   ]
  },
  {
   "cell_type": "code",
   "execution_count": 19,
   "id": "0fbba246-d9ad-4620-8246-06c43fbf6420",
   "metadata": {},
   "outputs": [
    {
     "data": {
      "text/html": [
       "<div>\n",
       "<style scoped>\n",
       "    .dataframe tbody tr th:only-of-type {\n",
       "        vertical-align: middle;\n",
       "    }\n",
       "\n",
       "    .dataframe tbody tr th {\n",
       "        vertical-align: top;\n",
       "    }\n",
       "\n",
       "    .dataframe thead th {\n",
       "        text-align: right;\n",
       "    }\n",
       "</style>\n",
       "<table border=\"1\" class=\"dataframe\">\n",
       "  <thead>\n",
       "    <tr style=\"text-align: right;\">\n",
       "      <th></th>\n",
       "      <th>Chr</th>\n",
       "      <th>Start</th>\n",
       "      <th>End</th>\n",
       "      <th>Strand</th>\n",
       "      <th>Length</th>\n",
       "      <th>./YOA-work/CLIP_PABPC4_1.bam</th>\n",
       "      <th>./YOA-work/CLIP_PABPC4_2.bam</th>\n",
       "    </tr>\n",
       "    <tr>\n",
       "      <th>Geneid</th>\n",
       "      <th></th>\n",
       "      <th></th>\n",
       "      <th></th>\n",
       "      <th></th>\n",
       "      <th></th>\n",
       "      <th></th>\n",
       "      <th></th>\n",
       "    </tr>\n",
       "  </thead>\n",
       "  <tbody>\n",
       "    <tr>\n",
       "      <th>ENSG00000290825.2</th>\n",
       "      <td>chr1;chr1;chr1;chr1;chr1;chr1;chr1;chr1;chr1;c...</td>\n",
       "      <td>11121;11125;11410;11411;11426;11770;11819;1182...</td>\n",
       "      <td>11211;11211;11671;11671;11671;11844;11844;1184...</td>\n",
       "      <td>+;+;+;+;+;+;+;+;+;+;+;+;+;+;+;+;+;+;+;+;+;+;+;...</td>\n",
       "      <td>2898</td>\n",
       "      <td>2</td>\n",
       "      <td>0</td>\n",
       "    </tr>\n",
       "    <tr>\n",
       "      <th>ENSG00000223972.6</th>\n",
       "      <td>chr1;chr1;chr1;chr1;chr1;chr1</td>\n",
       "      <td>12010;12179;12613;12975;13221;13453</td>\n",
       "      <td>12057;12227;12697;13052;13374;13670</td>\n",
       "      <td>+;+;+;+;+;+</td>\n",
       "      <td>632</td>\n",
       "      <td>0</td>\n",
       "      <td>0</td>\n",
       "    </tr>\n",
       "    <tr>\n",
       "      <th>ENSG00000310526.1</th>\n",
       "      <td>chr1;chr1;chr1;chr1;chr1;chr1;chr1;chr1;chr1;c...</td>\n",
       "      <td>14356;14356;14356;14356;14356;14356;14356;1436...</td>\n",
       "      <td>14829;14829;14829;14829;14829;14829;14829;1482...</td>\n",
       "      <td>-;-;-;-;-;-;-;-;-;-;-;-;-;-;-;-;-;-;-;-;-;-;-;...</td>\n",
       "      <td>6775</td>\n",
       "      <td>25</td>\n",
       "      <td>2</td>\n",
       "    </tr>\n",
       "    <tr>\n",
       "      <th>ENSG00000227232.6</th>\n",
       "      <td>chr1;chr1;chr1;chr1;chr1;chr1;chr1;chr1;chr1;chr1</td>\n",
       "      <td>14696;14970;15796;16607;16858;17233;17606;1791...</td>\n",
       "      <td>14829;15038;15947;16765;17055;17368;17742;1806...</td>\n",
       "      <td>-;-;-;-;-;-;-;-;-;-</td>\n",
       "      <td>1380</td>\n",
       "      <td>0</td>\n",
       "      <td>0</td>\n",
       "    </tr>\n",
       "    <tr>\n",
       "      <th>ENSG00000278267.1</th>\n",
       "      <td>chr1</td>\n",
       "      <td>17369</td>\n",
       "      <td>17436</td>\n",
       "      <td>-</td>\n",
       "      <td>68</td>\n",
       "      <td>0</td>\n",
       "      <td>0</td>\n",
       "    </tr>\n",
       "  </tbody>\n",
       "</table>\n",
       "</div>"
      ],
      "text/plain": [
       "                                                                 Chr  \\\n",
       "Geneid                                                                 \n",
       "ENSG00000290825.2  chr1;chr1;chr1;chr1;chr1;chr1;chr1;chr1;chr1;c...   \n",
       "ENSG00000223972.6                      chr1;chr1;chr1;chr1;chr1;chr1   \n",
       "ENSG00000310526.1  chr1;chr1;chr1;chr1;chr1;chr1;chr1;chr1;chr1;c...   \n",
       "ENSG00000227232.6  chr1;chr1;chr1;chr1;chr1;chr1;chr1;chr1;chr1;chr1   \n",
       "ENSG00000278267.1                                               chr1   \n",
       "\n",
       "                                                               Start  \\\n",
       "Geneid                                                                 \n",
       "ENSG00000290825.2  11121;11125;11410;11411;11426;11770;11819;1182...   \n",
       "ENSG00000223972.6                12010;12179;12613;12975;13221;13453   \n",
       "ENSG00000310526.1  14356;14356;14356;14356;14356;14356;14356;1436...   \n",
       "ENSG00000227232.6  14696;14970;15796;16607;16858;17233;17606;1791...   \n",
       "ENSG00000278267.1                                              17369   \n",
       "\n",
       "                                                                 End  \\\n",
       "Geneid                                                                 \n",
       "ENSG00000290825.2  11211;11211;11671;11671;11671;11844;11844;1184...   \n",
       "ENSG00000223972.6                12057;12227;12697;13052;13374;13670   \n",
       "ENSG00000310526.1  14829;14829;14829;14829;14829;14829;14829;1482...   \n",
       "ENSG00000227232.6  14829;15038;15947;16765;17055;17368;17742;1806...   \n",
       "ENSG00000278267.1                                              17436   \n",
       "\n",
       "                                                              Strand  Length  \\\n",
       "Geneid                                                                         \n",
       "ENSG00000290825.2  +;+;+;+;+;+;+;+;+;+;+;+;+;+;+;+;+;+;+;+;+;+;+;...    2898   \n",
       "ENSG00000223972.6                                        +;+;+;+;+;+     632   \n",
       "ENSG00000310526.1  -;-;-;-;-;-;-;-;-;-;-;-;-;-;-;-;-;-;-;-;-;-;-;...    6775   \n",
       "ENSG00000227232.6                                -;-;-;-;-;-;-;-;-;-    1380   \n",
       "ENSG00000278267.1                                                  -      68   \n",
       "\n",
       "                   ./YOA-work/CLIP_PABPC4_1.bam  ./YOA-work/CLIP_PABPC4_2.bam  \n",
       "Geneid                                                                         \n",
       "ENSG00000290825.2                             2                             0  \n",
       "ENSG00000223972.6                             0                             0  \n",
       "ENSG00000310526.1                            25                             2  \n",
       "ENSG00000227232.6                             0                             0  \n",
       "ENSG00000278267.1                             0                             0  "
      ]
     },
     "execution_count": 19,
     "metadata": {},
     "output_type": "execute_result"
    }
   ],
   "source": [
    "import pandas as pd\n",
    "cnts = pd.read_csv('./YOA-work/read-counts.txt', sep='\\t', comment='#', index_col=0)\n",
    "cnts.head()"
   ]
  }
 ],
 "metadata": {
  "kernelspec": {
   "display_name": "Python 3 (ipykernel)",
   "language": "python",
   "name": "python3"
  },
  "language_info": {
   "codemirror_mode": {
    "name": "ipython",
    "version": 3
   },
   "file_extension": ".py",
   "mimetype": "text/x-python",
   "name": "python",
   "nbconvert_exporter": "python",
   "pygments_lexer": "ipython3",
   "version": "3.10.8"
  }
 },
 "nbformat": 4,
 "nbformat_minor": 5
}
